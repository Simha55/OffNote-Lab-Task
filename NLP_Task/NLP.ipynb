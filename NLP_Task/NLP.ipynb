{
 "cells": [
  {
   "cell_type": "code",
   "execution_count": 1,
   "id": "e0b4512c",
   "metadata": {},
   "outputs": [
    {
     "name": "stdout",
     "output_type": "stream",
     "text": [
      "Some text.\n"
     ]
    }
   ],
   "source": [
    "from punctuator import Punctuator\n",
    "p = Punctuator('model.pcl')\n",
    "print(p.punctuate('some text'))"
   ]
  },
  {
   "cell_type": "code",
   "execution_count": 6,
   "id": "ddf80eab",
   "metadata": {},
   "outputs": [
    {
     "name": "stdout",
     "output_type": "stream",
     "text": [
      "Everyone, please think of your biggest personal goal.\n",
      "For real -- you can take a second. You've got to feel this to learn it.\n",
      "Take a few seconds and think of your personal biggest goal, okay?\n",
      "Imagine deciding right now that you're going to do it.\n",
      "Imagine telling someone that you meet today what you're going to do.\n",
      "Imagine their congratulations,\n",
      "and their high image of you.\n",
      "Doesn't it feel good to say it out loud?\n",
      "Don't you feel one step closer already,\n",
      "like it's already becoming part of your identity?\n",
      "Well, bad news: you should have kept your mouth shut,\n",
      "because that good feeling\n",
      "now will make you less likely to do it.\n",
      "The repeated psychology tests have proven\n",
      "that telling someone your goal makes it less likely to happen.\n",
      "Any time you have a goal,\n",
      "there are some steps that need to be done,\n",
      "some work that needs to be done in order to achieve it.\n",
      "Ideally you would not be satisfied until you'd actually done the work.\n",
      "But when you tell someone your goal and they acknowledge it,\n",
      "psychologists have found that it's called a \"social reality.\"\n",
      "The mind is kind of tricked into feeling that it's already done.\n",
      "And then because you've felt that satisfaction,\n",
      "you're less motivated to do the actual hard work necessary.\n",
      "(Laughter)\n",
      "So this goes against conventional wisdom\n",
      "that we should tell our friends our goals, right?\n",
      "So they hold us to it.\n",
      "So, let's look at the proof.\n",
      "1926: Kurt Lewin, founder of social psychology,\n",
      "called this \"substitution.\"\n",
      "1933: Wera Mahler found when it was acknowledged by others,\n",
      "it felt real in the mind.\n",
      "1982, Peter Gollwitzer wrote a whole book about this,\n",
      "and in 2009,\n",
      "he did some new tests that were published.\n",
      "It goes like this:\n",
      "163 people across four separate tests.\n",
      "Everyone wrote down their personal goal.\n",
      "Then half of them announced their commitment to this goal to the room,\n",
      "and half didn't.\n",
      "Then everyone was given 45 minutes of work\n",
      "that would directly lead them towards their goal,\n",
      "but they were told that they could stop at any time.\n",
      "Now, those who kept their mouths shut\n",
      "worked the entire 45 minutes on average,\n",
      "and when asked afterward,\n",
      "said that they felt that they had a long way to go still\n",
      "to achieve their goal.\n",
      "But those who had announced it\n",
      "quit after only 33 minutes, on average,\n",
      "and when asked afterward,\n",
      "said that they felt much closer to achieving their goal.\n",
      "So if this is true, what can we do?\n",
      "Well, you could resist the temptation to announce your goal.\n",
      "You can delay the gratification that the social acknowledgment brings,\n",
      "and you can understand that your mind mistakes the talking for the doing.\n",
      "But if you do need to talk about something,\n",
      "you can state it in a way that gives you no satisfaction,\n",
      "such as, \"I really want to run this marathon,\n",
      "so I need to train five times a week\n",
      "and kick my ass if I don't, okay?\"\n",
      "So audience, next time you're tempted to tell someone your goal,\n",
      "what will you say?\n",
      "(Silence)\n",
      "Exactly! Well done.\n",
      "(Laughter)\n",
      "(Applause)\n",
      "\n"
     ]
    }
   ],
   "source": [
    "text = open(\"text.txt\", \"r\")\n",
    "file = text.read()\n",
    "print(file)"
   ]
  },
  {
   "cell_type": "code",
   "execution_count": 8,
   "id": "1ed0de20",
   "metadata": {},
   "outputs": [],
   "source": [
    "\n",
    "punct = p.punctuate(file)"
   ]
  },
  {
   "cell_type": "code",
   "execution_count": 10,
   "id": "1fec77c1",
   "metadata": {},
   "outputs": [
    {
     "data": {
      "text/plain": [
       "2964"
      ]
     },
     "execution_count": 10,
     "metadata": {},
     "output_type": "execute_result"
    }
   ],
   "source": [
    "output = open('punctuated.txt','w')\n",
    "output.write(punct)"
   ]
  },
  {
   "cell_type": "code",
   "execution_count": 11,
   "id": "64ede98d",
   "metadata": {},
   "outputs": [
    {
     "name": "stdout",
     "output_type": "stream",
     "text": [
      "Everyone,, please think of your biggest personal goal. For real --. You can take a second. You've got to feel this to learn, it. Take a few seconds and think of your personal biggest goal, okay? Imagine, deciding right now that you're going to do it. Imagine telling someone that you meet today. What you're going to do. Imagine their congratulations, and their high image of you. Doesn't, it feel good to say it out: loud? Don't, you feel one step closer already, like it's already becoming part of your identity? Well, bad news:. You should have kept your mouth shut,, because that good feeling now will make you less likely to do. It. The, repeated psychology tests have proven that telling someone your goal makes it less likely to happen. Any time you have a goal,. There are some steps that need to be done, some work. That needs to be done. In order to achieve it. Ideally. You would not be satisfied until you'd actually done the work. But. When you tell someone your goal and they acknowledge it, psychologists have found that it's called a \"social reality.\" The. Mind is kind of tricked into feeling that it's already done. And then because you've felt that satisfaction, you're less motivated to do the actual hard work necessary. (Laughter) So. This goes against conventional wisdom that we should tell our friends our goals, right? So. They hold us to it. So,. Let's look at the proof. 1926: Kurt Lewin,, founder of social psychology,, called this \"substitution.\" 1933: Wera Mahler found when it was acknowledged by others,. It felt real in the mind. 1982, Peter Gollwitzer wrote a whole book about this, and in 2009, he did some new tests that were published. It goes like this: 163 people across four separate tests. Everyone wrote down their personal goal. Then. Half of them announced their commitment to this goal to the room, and half didn't. Then. Everyone was given 45 minutes of work that would directly lead them towards their goal,, but they were told that they could stop at any time. Now,. Those who kept their mouths shut worked the entire 45 minutes on average, and when asked afterward, said that they felt that they had a long way to go still to achieve their goal. But. Those who had announced it quit after only 33 minutes, on average, and when asked afterward, said that they felt much closer to achieving their goal. So. If this is true,, what can we do? Well,? You could resist the temptation to announce your goal. You can delay the gratification that the social acknowledgment brings, and you can understand that your mind mistakes, the talking for the doing. But. If you do need to talk about something,, you can state it in a way that gives you no satisfaction, such as,. \"I really want to run this marathon,. So I need to train five times a week and kick my ass. If I don't, okay?\" So audience, next time, you're tempted to tell someone your goal,, what will you say?, (Silence) Exactly! Well, done., (Laughter) (Applause),.\n"
     ]
    }
   ],
   "source": [
    "print(punct)"
   ]
  },
  {
   "cell_type": "code",
   "execution_count": null,
   "id": "9a32fe1f",
   "metadata": {},
   "outputs": [],
   "source": []
  }
 ],
 "metadata": {
  "kernelspec": {
   "display_name": "Python 3",
   "language": "python",
   "name": "python3"
  },
  "language_info": {
   "codemirror_mode": {
    "name": "ipython",
    "version": 3
   },
   "file_extension": ".py",
   "mimetype": "text/x-python",
   "name": "python",
   "nbconvert_exporter": "python",
   "pygments_lexer": "ipython3",
   "version": "3.6.9"
  }
 },
 "nbformat": 4,
 "nbformat_minor": 5
}
